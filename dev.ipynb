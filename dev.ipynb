{
 "cells": [
  {
   "cell_type": "code",
   "execution_count": 177,
   "id": "f4722893",
   "metadata": {},
   "outputs": [],
   "source": [
    "import pyautogui as pyg\n",
    "from time import sleep\n",
    "from itertools import product"
   ]
  },
  {
   "cell_type": "code",
   "execution_count": 98,
   "id": "0c4344e5",
   "metadata": {},
   "outputs": [],
   "source": [
    "shopOpenPos = (563,242)\n",
    "assert pyg.pixel(*shopOpenPos)==(67, 54, 49), \"Shop not detected open\""
   ]
  },
  {
   "cell_type": "code",
   "execution_count": 157,
   "id": "8ecb580b",
   "metadata": {},
   "outputs": [],
   "source": [
    "config_y = 271\n",
    "\n",
    "search_x = 640\n",
    "category_x = 869\n",
    "tier_x = 1013\n",
    "enchantment_x = 1098\n",
    "reset_x = 1337\n",
    "\n",
    "def getY(pos):\n",
    "    return 300+pos*27.25"
   ]
  },
  {
   "cell_type": "code",
   "execution_count": 162,
   "id": "e039529c",
   "metadata": {},
   "outputs": [],
   "source": [
    "def isOpened(x, y):\n",
    "    return pyg.pixel(x,y) == (239, 203, 162)\n",
    "\n",
    "def changeTo(n, x_pos):\n",
    "    if not isOpened(x_pos, config_y):\n",
    "        pyg.click(x_pos, config_y)\n",
    "        sleep(.1)\n",
    "    pyg.click(x_pos, getY(n))\n",
    "\n",
    "def reset():\n",
    "    pyg.click(reset_x, config_y)"
   ]
  },
  {
   "cell_type": "code",
   "execution_count": 163,
   "id": "d599a665",
   "metadata": {},
   "outputs": [],
   "source": [
    "def changeCategory(n):\n",
    "    changeTo(n, category_x)\n",
    "    \n",
    "def changeTier(n):\n",
    "    changeTo(n, tier_x)\n",
    "    \n",
    "def changeEnchantment(n):\n",
    "    changeTo(n+1, enchantment_x)"
   ]
  },
  {
   "cell_type": "code",
   "execution_count": 185,
   "id": "3f9b0cf0",
   "metadata": {},
   "outputs": [],
   "source": [
    "def selectFiber():\n",
    "    if not isOpened(category_x, config_y):\n",
    "        pyg.click(category_x, config_y)\n",
    "        sleep(.1)\n",
    "    pyg.moveTo(category_x, getY(19))\n",
    "    sleep(.2)\n",
    "    pyg.click(935,768)\n",
    "    \n",
    "def selectCloth():\n",
    "    if not isOpened(category_x, config_y):\n",
    "        pyg.click(category_x, config_y)\n",
    "        sleep(.1)\n",
    "    pyg.moveTo(category_x, getY(19))\n",
    "    sleep(.2)\n",
    "    pyg.click(935,739)"
   ]
  },
  {
   "cell_type": "code",
   "execution_count": 192,
   "id": "1111ce27",
   "metadata": {},
   "outputs": [],
   "source": [
    "def fiber():\n",
    "    reset()\n",
    "    selectFiber()\n",
    "    for tier in range(4,9):\n",
    "        changeTier(tier)\n",
    "        for ench in range(4):\n",
    "            changeEnchantment(ench)\n",
    "            sleep(.1)\n",
    "def cloth():\n",
    "    reset()\n",
    "    selectCloth()\n",
    "    for tier in range(4,9):\n",
    "        changeTier(tier)\n",
    "        for ench in range(4):\n",
    "            changeEnchantment(ench)\n",
    "            sleep(.1)"
   ]
  },
  {
   "cell_type": "code",
   "execution_count": 193,
   "id": "5af31d89",
   "metadata": {},
   "outputs": [],
   "source": [
    "# fiber()\n",
    "cloth()"
   ]
  },
  {
   "cell_type": "code",
   "execution_count": null,
   "id": "43bafe68",
   "metadata": {},
   "outputs": [],
   "source": []
  }
 ],
 "metadata": {
  "kernelspec": {
   "display_name": "Python 3 (ipykernel)",
   "language": "python",
   "name": "python3"
  },
  "language_info": {
   "codemirror_mode": {
    "name": "ipython",
    "version": 3
   },
   "file_extension": ".py",
   "mimetype": "text/x-python",
   "name": "python",
   "nbconvert_exporter": "python",
   "pygments_lexer": "ipython3",
   "version": "3.10.5"
  }
 },
 "nbformat": 4,
 "nbformat_minor": 5
}
