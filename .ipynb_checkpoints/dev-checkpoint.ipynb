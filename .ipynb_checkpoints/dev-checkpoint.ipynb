{
 "cells": [
  {
   "cell_type": "code",
   "execution_count": 24,
   "id": "f4722893",
   "metadata": {},
   "outputs": [],
   "source": [
    "import pyautogui as pyg\n",
    "from time import sleep"
   ]
  },
  {
   "cell_type": "code",
   "execution_count": 98,
   "id": "0c4344e5",
   "metadata": {},
   "outputs": [],
   "source": [
    "shopOpenPos = (563,242)\n",
    "assert pyg.pixel(*shopOpenPos)==(67, 54, 49), \"Shop not detected open\""
   ]
  },
  {
   "cell_type": "code",
   "execution_count": 157,
   "id": "ee5f100f",
   "metadata": {},
   "outputs": [],
   "source": [
    "config_y = 271\n",
    "\n",
    "search_x = 640\n",
    "category_x = 869\n",
    "tier_x = 1013\n",
    "enchantment_x = 1098\n",
    "reset_x = 1337\n",
    "\n",
    "def getY(pos):\n",
    "    return 300+pos*27.25"
   ]
  },
  {
   "cell_type": "code",
   "execution_count": 158,
   "id": "ec7de9a4",
   "metadata": {},
   "outputs": [],
   "source": [
    "def isOpened(x, y):\n",
    "    return pyg.pixel(x,y) == (239, 203, 162)\n",
    "\n",
    "def changeTo(n, x_pos):\n",
    "    if not isOpened(x_pos, config_y):\n",
    "        pyg.click(x_pos, config_y)\n",
    "        sleep(.1)\n",
    "    pyg.click(x_pos, getY(n))\n",
    "\n",
    "def reset():\n",
    "    pyg.click(reset_x, config_y)\n",
    "    \n",
    "    \n",
    "    \n",
    "def changeCategory(n):\n",
    "    changeTo(n, category_x)\n",
    "\n",
    "def changeCategory(n, n2):\n",
    "    changeTo(n, category_x)\n",
    "    \n",
    "def changeTier(n):\n",
    "    changeTo(n, tier_x)\n",
    "    \n",
    "def changeEnchantment(n):\n",
    "    changeTo(n+1, enchantment_x)"
   ]
  },
  {
   "cell_type": "code",
   "execution_count": 159,
   "id": "e49a9fb5",
   "metadata": {},
   "outputs": [],
   "source": [
    "reset()"
   ]
  },
  {
   "cell_type": "code",
   "execution_count": 146,
   "id": "b47b7aad",
   "metadata": {},
   "outputs": [],
   "source": [
    "changeCategory(19) # change to resource"
   ]
  },
  {
   "cell_type": "code",
   "execution_count": 148,
   "id": "d1a0edb3",
   "metadata": {},
   "outputs": [],
   "source": [
    "changeTier(2)"
   ]
  },
  {
   "cell_type": "code",
   "execution_count": 156,
   "id": "5d747933",
   "metadata": {},
   "outputs": [],
   "source": [
    "changeEnchantment(3)"
   ]
  },
  {
   "cell_type": "code",
   "execution_count": null,
   "id": "0815eb0c",
   "metadata": {},
   "outputs": [],
   "source": []
  }
 ],
 "metadata": {
  "kernelspec": {
   "display_name": "Python 3 (ipykernel)",
   "language": "python",
   "name": "python3"
  },
  "language_info": {
   "codemirror_mode": {
    "name": "ipython",
    "version": 3
   },
   "file_extension": ".py",
   "mimetype": "text/x-python",
   "name": "python",
   "nbconvert_exporter": "python",
   "pygments_lexer": "ipython3",
   "version": "3.10.5"
  }
 },
 "nbformat": 4,
 "nbformat_minor": 5
}
